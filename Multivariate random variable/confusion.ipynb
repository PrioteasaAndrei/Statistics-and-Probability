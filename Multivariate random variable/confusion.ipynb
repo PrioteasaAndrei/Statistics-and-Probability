{
 "cells": [
  {
   "cell_type": "code",
   "execution_count": 1,
   "metadata": {},
   "outputs": [],
   "source": [
    "import pandas as pd\n",
    "import numpy as np"
   ]
  },
  {
   "attachments": {},
   "cell_type": "markdown",
   "metadata": {},
   "source": [
    "### You were actually thinking about this. A random variable just returns a single value given its probability from a universe.\n",
    "\n",
    "If the variable is discrete, then for each event in the universe there is an associated probability. If we do not have these explicitly, we can use the available data to count the frequency of each event and then determine the probability for each event, resulting in our discrete random variable. Then to sample it, we just obtain one random event per sample."
   ]
  },
  {
   "attachments": {},
   "cell_type": "markdown",
   "metadata": {},
   "source": [
    "On the other hand, if we have a discrete multivariate random variable which models a random event, then when we sample it we obtain a vector, not a single value. "
   ]
  },
  {
   "attachments": {},
   "cell_type": "markdown",
   "metadata": {},
   "source": [
    "The next example describes a continues bivariate random variable modeling the height and weight of different persons. The values are correlated. When drawing samples we draw a 2D vector."
   ]
  },
  {
   "cell_type": "code",
   "execution_count": 2,
   "metadata": {},
   "outputs": [
    {
     "name": "stdout",
     "output_type": "stream",
     "text": [
      "       Height     Weight\n",
      "0  163.921347  66.511495\n",
      "1  155.152331  57.420154\n",
      "2  186.664388  87.265252\n",
      "3  162.869453  64.057491\n",
      "4  144.441117  74.533933\n"
     ]
    }
   ],
   "source": [
    "# Define the means and standard deviations for heights and weights\n",
    "mean_height = 170\n",
    "std_height = 10\n",
    "mean_weight = 70\n",
    "std_weight = 15\n",
    "\n",
    "# Define the correlation coefficient between heights and weights\n",
    "correlation = 0.7\n",
    "\n",
    "# Number of samples to generate\n",
    "num_samples = 100\n",
    "\n",
    "# Generate random samples for heights and weights\n",
    "np.random.seed(42)  # Set a seed for reproducibility\n",
    "heights = np.random.normal(loc=mean_height, scale=std_height, size=num_samples)\n",
    "weights = np.random.normal(loc=mean_weight, scale=std_weight, size=num_samples)\n",
    "\n",
    "# Introduce correlation between heights and weights\n",
    "cov_matrix = np.array([[std_height ** 2, correlation * std_height * std_weight],\n",
    "                       [correlation * std_height * std_weight, std_weight ** 2]])\n",
    "\n",
    "# Generate correlated heights and weights\n",
    "correlated_heights, correlated_weights = np.random.multivariate_normal(\n",
    "    mean=[mean_height, mean_weight], cov=cov_matrix, size=num_samples).T\n",
    "\n",
    "# Create a pandas DataFrame to represent the multivariate random variable\n",
    "data = {'Height': correlated_heights, 'Weight': correlated_weights}\n",
    "multivariate_random_variable = pd.DataFrame(data)\n",
    "\n",
    "# Print the first few rows of the DataFrame\n",
    "print(multivariate_random_variable.head())\n"
   ]
  }
 ],
 "metadata": {
  "kernelspec": {
   "display_name": "base",
   "language": "python",
   "name": "python3"
  },
  "language_info": {
   "codemirror_mode": {
    "name": "ipython",
    "version": 3
   },
   "file_extension": ".py",
   "mimetype": "text/x-python",
   "name": "python",
   "nbconvert_exporter": "python",
   "pygments_lexer": "ipython3",
   "version": "3.11.4"
  },
  "orig_nbformat": 4
 },
 "nbformat": 4,
 "nbformat_minor": 2
}
